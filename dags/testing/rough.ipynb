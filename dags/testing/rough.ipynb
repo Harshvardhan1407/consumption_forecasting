{
 "cells": [
  {
   "cell_type": "code",
   "execution_count": null,
   "id": "a04f6e6f",
   "metadata": {},
   "outputs": [],
   "source": [
    "#  Success for column: _id\n",
    "#   -> Success for column: date\n",
    "#   ❌ Error processing column 'creation_time': year -2023 is out of range (Consider Using CodecOptions(datetime_conversion=DATETIME_AUTO) or MongoClient(datetime_conversion='DATETIME_AUTO')). See: https://www.mongodb.com/docs/languages/python/pymongo-driver/current/data-formats/dates-and-times/#handling-out-of-range-datetimes\n",
    "#   -> Success for column: 1:0:8:29:0:255\n",
    "#   -> Success for column: 1:0:2:29:0:255\n",
    "#   -> Success for column: 1:0:5:29:0:255\n",
    "#   -> Success for column: 1:0:31:27:0:255\n",
    "#   -> Success for column: 1:0:72:27:0:255\n",
    "#   -> Success for column: 1:0:7:29:0:255\n",
    "#   -> Success for column: read_time_ms\n",
    "#   -> Success for column: source\n",
    "#   -> Success for column: 1:0:71:27:0:255\n",
    "#   -> Success for column: 1:0:10:29:0:255\n",
    "#   -> Success for column: sensor_id\n",
    "#   -> Success for column: req_id\n",
    "#   -> Success for column: 1:0:52:27:0:255\n",
    "#   -> Success for column: creation_time_str\n",
    "#   ❌ Error processing column 'read_time': year 0 is out of range (Consider Using CodecOptions(datetime_conversion=DATETIME_AUTO) or MongoClient(datetime_conversion='DATETIME_AUTO')). See: https://www.mongodb.com/docs/languages/python/pymongo-driver/current/data-formats/dates-and-times/#handling-out-of-range-datetimes\n",
    "#   -> Success for column: 1:0:6:29:0:255\n",
    "#   -> Success for column: creation_time_ms\n",
    "#   -> Success for column: read_time_str\n",
    "#   -> Success for column: 0:0:1:0:0:255\n",
    "#   -> Success for column: 1:0:32:27:0:255\n",
    "#   -> Success for column: 1:0:1:29:0:255\n",
    "#   -> Success for column: p_type\n",
    "#   -> Success for column: 1:0:51:27:0:255\n",
    "#   -> Success for column: 1:0:9:29:0:255\n",
    "#   -> Success for column: 0:0:96:10:1:255\n",
    "#   -> Success for column: serial_no\n",
    "#   -> Success for column: status\n",
    "#   -> Success for column: _class\n",
    "#   -> Success for column: location_id\n",
    "#   -> Success for column: meter_amp_mf\n",
    "#   -> Success for column: meter_volt_mf\n",
    "#   -> Success for column: meter_load_mf\n",
    "#   -> Success for column: mdm_time_ms\n",
    "#   -> Success for column: mdm_time_str\n",
    "#   -> Success for column: nfms_sync\n",
    "#   -> Success for column: nfms_sync_str\n",
    "#   -> Success for column: nfms_tr_id\n",
    "#   -> Success for column: remark\n",
    "#   -> Success for column: seq_no\n",
    "#   -> Success for column: raw_data\n",
    "#   -> Success for column: mdm_pstatus"
   ]
  },
  {
   "cell_type": "code",
   "execution_count": 2,
   "id": "1d6b0489",
   "metadata": {},
   "outputs": [
    {
     "name": "stdout",
     "output_type": "stream",
     "text": [
      "Database list:  ['admin', 'amisp', 'config', 'jpdcl', 'local']\n",
      "Collection list:  ['loadprofile', 'weather_data', 'loadprofile_AMI_FDR_MDM_2025', 'loadprofile_AMI_FDR_MDM_2024', 'sensor', 'mdm_loadprofile']\n"
     ]
    }
   ],
   "source": [
    "from pymongo import MongoClient\n",
    "\n",
    "client = MongoClient('mongodb://35.154.221.2:27017/')\n",
    "print(\"Database list: \", client.list_database_names())\n",
    "db = client['jpdcl']\n",
    "print(\"Collection list: \", db.list_collection_names())\n",
    "collection = db['loadprofile']\n",
    "# print(\"Collection count: \", collection.count_documents({}))"
   ]
  },
  {
   "cell_type": "code",
   "execution_count": 1,
   "id": "c2f03e7d",
   "metadata": {},
   "outputs": [
    {
     "data": {
      "text/plain": [
       "{'0.0.0.1.0.255': 'CumBillingCount',\n",
       " '0.0.0.1.1.255': 'AvailableBillingPeriods',\n",
       " '0.0.42.0.0.255': 'COSEMLogicalDeviceName',\n",
       " '0.0.43.1.1.255': 'InvocationCounter1PC',\n",
       " '0.0.43.1.2.255': 'InvocationCounter2MR',\n",
       " '0.0.43.1.3.255': 'InvocationCounter3US',\n",
       " '0.0.43.1.4.255': 'InvocationCounter4Push',\n",
       " '0.0.43.1.5.255': 'InvocationCounter5FW',\n",
       " '0.0.43.1.6.255': 'InvocationCounter6IHD',\n",
       " '0.0.94.91.0.255': 'CumulativeTamperCount',\n",
       " '0.0.94.91.9.255': 'MeterType',\n",
       " '0.0.94.91.11.255': 'MeterCategory',\n",
       " '0.0.94.91.12.255': 'CurrentRating',\n",
       " '0.0.94.91.18.255': 'EventStatusWord1ESW-1',\n",
       " '0.0.94.91.26.255': 'ESWF',\n",
       " '0.0.94.96.19.255': 'MeteringMode',\n",
       " '0.0.94.96.20.255': 'PaymentMode',\n",
       " '0.0.94.96.21.255': 'LastTokenRechargeAmount',\n",
       " '0.0.94.96.22.255': 'LastTokenRechargeTime',\n",
       " '0.0.94.96.23.255': 'TotalAmountAtLastRecharge',\n",
       " '0.0.94.96.24.255': 'CurrentBalanceAmount',\n",
       " '0.0.94.96.25.255': 'CurrentBalanceTime',\n",
       " '0.0.96.1.0.255': 'MeterSerialNumber',\n",
       " '0.0.96.1.1.255': 'ManufacturerName',\n",
       " '0.0.96.1.2.255': 'DeviceID',\n",
       " '0.0.96.1.4.255': 'YearOfManufacture',\n",
       " '0.0.96.2.0.255': 'CumProgrammingCount',\n",
       " '0.0.96.7.0.255': 'NoofPowerFailures',\n",
       " '0.0.96.10.1.255': 'MeterHealthIndicator',\n",
       " '0.0.96.11.0.255': 'EventVoltageRelated',\n",
       " '0.0.96.11.1.255': 'EventCurrentRelated',\n",
       " '0.0.96.11.2.255': 'EventPowerRelated',\n",
       " '0.0.96.11.3.255': 'EventTransactionRelated',\n",
       " '0.0.96.11.4.255': 'EventOthers',\n",
       " '0.0.96.11.5.255': 'EventNon-RollOver',\n",
       " '0.0.96.11.6.255': 'EventControl',\n",
       " '0.0.96.15.0.255': 'EventLogSeqVoltage',\n",
       " '0.0.96.15.1.255': 'EventLogSeqCurrent',\n",
       " '0.0.96.15.2.255': 'EventLogSeqPower',\n",
       " '0.0.96.15.3.255': 'EventLogSeqTransaction',\n",
       " '0.0.96.15.4.255': 'EventLogSeqOthers',\n",
       " '0.0.96.15.5.255': 'EventLogSeqNon-RollOver',\n",
       " '0.0.96.15.6.255': 'EventLogSeqControl',\n",
       " '0.0.96.15.128.255': 'TamperCountforBillingPeriod',\n",
       " '1.0.96.128.25.255': 'ActiveRelayTime',\n",
       " '1.0.96.128.30.255': 'PassiveRelayTime',\n",
       " '0.0.97.98.0.255': 'Alarmregisterobject',\n",
       " '1.0.0.2.0.255': 'FirmwareVersionForMeter',\n",
       " '1.0.0.4.2.255': 'CTR',\n",
       " '1.0.0.4.3.255': 'PTR',\n",
       " '1.0.0.8.0.255': 'DemandIntegrationPeriod',\n",
       " '1.0.0.8.4.255': 'ProfileCapturePeriod',\n",
       " '0.0.0.1.2.255': 'BillingDate',\n",
       " '0.0.94.91.8.255': 'CumPowerFailureDuration',\n",
       " '0.0.94.91.13.255': 'BillingPowerOnDuration',\n",
       " '0.0.94.91.14.255': 'CumPowerOnDuration',\n",
       " '1.0.1.7.0.255': 'ActivePower-W',\n",
       " '1.0.1.8.0.255': 'CumEnergy-WhImp',\n",
       " '1.0.1.8.1.255': 'CumEnergy-WhImp-TZ1',\n",
       " '1.0.1.8.2.255': 'CumEnergy-WhImp-TZ2',\n",
       " '1.0.1.8.3.255': 'CumEnergy-WhImp-TZ3',\n",
       " '1.0.1.8.4.255': 'CumEnergy-WhImp-TZ4',\n",
       " '1.0.1.8.5.255': 'CumEnergy-WhImp-TZ5',\n",
       " '1.0.1.8.6.255': 'CumEnergy-WhImp-TZ6',\n",
       " '1.0.1.8.7.255': 'CumEnergy-WhImp-TZ7',\n",
       " '1.0.1.8.8.255': 'CumEnergy-WhImp-TZ8',\n",
       " '1.0.1.9.0.255': 'CumEnergy-WhTotal',\n",
       " '1.0.1.29.0.255': 'BlockEnergy-WhImp',\n",
       " '1.0.2.8.0.255': 'CumEnergy-WhExp',\n",
       " '1.0.2.8.1.255': 'CumEnergy-WhExp-TZ1',\n",
       " '1.0.2.8.2.255': 'CumEnergy-WhExp-TZ2',\n",
       " '1.0.2.8.3.255': 'CumEnergy-WhExp-TZ3',\n",
       " '1.0.2.8.4.255': 'CumEnergy-WhExp-TZ4',\n",
       " '1.0.2.8.5.255': 'CumEnergy-WhExp-TZ5',\n",
       " '1.0.2.8.6.255': 'CumEnergy-WhExp-TZ6',\n",
       " '1.0.2.8.7.255': 'CumEnergy-WhExp-TZ7',\n",
       " '1.0.2.8.8.255': 'CumEnergy-WhExp-TZ8',\n",
       " '1.0.2.29.0.255': 'BlockEnergy-WhExp',\n",
       " '1.0.3.7.0.255': 'SignedReactivePower-VAr',\n",
       " '1.0.5.8.0.255': 'CumEnergy-VArhQ1',\n",
       " '1.0.5.29.0.255': 'BlockEnergy-VArhQ1',\n",
       " '1.0.6.8.0.255': 'CumEnergy-VArhQ2',\n",
       " '1.0.6.29.0.255': 'BlockEnergy-VArhQ2',\n",
       " '1.0.7.8.0.255': 'CumEnergy-VArhQ3',\n",
       " '1.0.7.29.0.255': 'BlockEnergy-VArhQ3',\n",
       " '1.0.8.8.0.255': 'CumEnergy-VArhQ4',\n",
       " '1.0.8.29.0.255': 'BlockEnergy-VArhQ4',\n",
       " '1.0.9.7.0.255': 'ApparentPower-VA',\n",
       " '1.0.9.8.0.255': 'CumEnergy-VAhImp',\n",
       " '1.0.9.8.1.255': 'CumEnergy-VAhImp-TZ1',\n",
       " '1.0.9.8.2.255': 'CumEnergy-VAhImp-TZ2',\n",
       " '1.0.9.8.3.255': 'CumEnergy-VAhImp-TZ3',\n",
       " '1.0.9.8.4.255': 'CumEnergy-VAhImp-TZ4',\n",
       " '1.0.9.8.5.255': 'CumEnergy-VAhImp-TZ5',\n",
       " '1.0.9.8.6.255': 'CumEnergy-VAhImp-TZ6',\n",
       " '1.0.9.8.7.255': 'CumEnergy-VAhImp-TZ7',\n",
       " '1.0.9.8.8.255': 'CumEnergy-VAhImp-TZ8',\n",
       " '1.0.9.29.0.255': 'BlockEnergy-VAhImp',\n",
       " '1.0.10.8.0.255': 'CumEnergy-VAhExp',\n",
       " '1.0.10.8.1.255': 'CumEnergy-VAhExp-TZ1',\n",
       " '1.0.10.8.2.255': 'CumEnergy-VAhExp-TZ2',\n",
       " '1.0.10.8.3.255': 'CumEnergy-VAhExp-TZ3',\n",
       " '1.0.10.8.4.255': 'CumEnergy-VAhExp-TZ4',\n",
       " '1.0.10.8.5.255': 'CumEnergy-VAhExp-TZ5',\n",
       " '1.0.10.8.6.255': 'CumEnergy-VAhExp-TZ6',\n",
       " '1.0.10.8.7.255': 'CumEnergy-VAhExp-TZ7',\n",
       " '1.0.10.8.8.255': 'CumEnergy-VAhExp-TZ8',\n",
       " '1.0.10.29.0.255': 'BlockEnergy-VAhExp',\n",
       " '1.0.11.7.0.255': 'PhaseCurrent',\n",
       " '1.0.11.27.0.255': 'AverageCurrent',\n",
       " '1.0.12.7.0.255': 'Voltage',\n",
       " '1.0.12.27.0.255': 'AverageVoltage',\n",
       " '1.0.13.0.0.255': 'AveragePowerFactorforBillingPeriod',\n",
       " '1.0.13.7.0.255': 'SignedPowerFactor',\n",
       " '1.0.14.7.0.255': 'Frequency-Hz',\n",
       " '1.0.31.7.0.255': 'L1Current',\n",
       " '1.0.31.27.0.255': 'L1CurrentAvg',\n",
       " '1.0.32.7.0.255': 'L1Voltage',\n",
       " '1.0.32.27.0.255': 'L1VoltageAvg',\n",
       " '1.0.33.7.0.255': 'L1PowerFactor',\n",
       " '1.0.51.7.0.255': 'L2Current',\n",
       " '1.0.51.27.0.255': 'L2CurrentAvg',\n",
       " '1.0.52.7.0.255': 'L2Voltage',\n",
       " '1.0.52.27.0.255': 'L2VoltageAvg',\n",
       " '1.0.53.7.0.255': 'L2PowerFactor',\n",
       " '1.0.71.7.0.255': 'L3Current',\n",
       " '1.0.71.27.0.255': 'L3CurrentAvg',\n",
       " '1.0.72.7.0.255': 'L3Voltage',\n",
       " '1.0.72.27.0.255': 'L3VoltageAvg',\n",
       " '1.0.73.7.0.255': 'L3Powerfactor',\n",
       " '1.0.81.7.1.255': 'AnglePhaseABvolt.',\n",
       " '1.0.81.7.12.255': 'AnglePhaseBCvolt.',\n",
       " '1.0.81.7.2.255': 'AnglePhaseACvolt.',\n",
       " '1.0.91.7.0.255': 'NeutralCurrent',\n",
       " '1.0.94.91.14.255': 'Current',\n",
       " '1.0.1.6.0.255': 'MD-WImp',\n",
       " '1.0.1.6.1.255': 'MD-WImp-TZ1',\n",
       " '1.0.1.6.2.255': 'MD-WImp-TZ2',\n",
       " '1.0.1.6.3.255': 'MD-WImp-TZ3',\n",
       " '1.0.1.6.4.255': 'MD-WImp-TZ4',\n",
       " '1.0.1.6.5.255': 'MD-WImp-TZ5',\n",
       " '1.0.1.6.6.255': 'MD-WImp-TZ6',\n",
       " '1.0.1.6.7.255': 'MD-WImp-TZ7',\n",
       " '1.0.1.6.8.255': 'MD-WImp-TZ8',\n",
       " '1.0.2.6.0.255': 'MD-WExp',\n",
       " '1.0.2.6.1.255': 'MD-WExp-TZ1',\n",
       " '1.0.2.6.2.255': 'MD-WExp-TZ2',\n",
       " '1.0.2.6.3.255': 'MD-WExp-TZ3',\n",
       " '1.0.2.6.4.255': 'MD-WExp-TZ4',\n",
       " '1.0.2.6.5.255': 'MD-WExp-TZ5',\n",
       " '1.0.2.6.6.255': 'MD-WExp-TZ6',\n",
       " '1.0.2.6.7.255': 'MD-WExp-TZ7',\n",
       " '1.0.2.6.8.255': 'MD-WExp-TZ8',\n",
       " '1.0.9.6.0.255': 'MD-VAImp',\n",
       " '1.0.9.6.1.255': 'MD-VAImp-TZ1',\n",
       " '1.0.9.6.2.255': 'MD-VAImp-TZ2',\n",
       " '1.0.9.6.3.255': 'MD-VAImp-TZ3',\n",
       " '1.0.9.6.4.255': 'MD-VAImp-TZ4',\n",
       " '1.0.9.6.5.255': 'MD-VAImp-TZ5',\n",
       " '1.0.9.6.6.255': 'MD-VAImp-TZ6',\n",
       " '1.0.9.6.7.255': 'MD-VAImp-TZ7',\n",
       " '1.0.9.6.8.255': 'MD-VAImp-TZ8',\n",
       " '1.0.10.6.0.255': 'MD-VAExp',\n",
       " '1.0.10.6.1.255': 'MD-VAExp-TZ1',\n",
       " '1.0.10.6.2.255': 'MD-VAExp-TZ2',\n",
       " '1.0.10.6.3.255': 'MD-VAExp-TZ3',\n",
       " '1.0.10.6.4.255': 'MD-VAExp-TZ4',\n",
       " '1.0.10.6.5.255': 'MD-VAExp-TZ5',\n",
       " '1.0.10.6.6.255': 'MD-VAExp-TZ6',\n",
       " '1.0.10.6.7.255': 'MD-VAExp-TZ7',\n",
       " '1.0.10.6.8.255': 'MD-VAExp-TZ8',\n",
       " '0.1.96.12.5.255': 'AverageSignalStrength',\n",
       " '0.0.94.91.10.255': 'NameplateProfile',\n",
       " '0.0.99.98.0.255': 'VoltageRelatedEventsProfile',\n",
       " '0.0.99.98.1.255': 'CurrentRelatedEventsProfile',\n",
       " '0.0.99.98.2.255': 'PowerRelatedEventsProfile',\n",
       " '0.0.99.98.3.255': 'TransactionEventsProfile',\n",
       " '0.0.99.98.4.255': 'OtherTamperEventsProfile',\n",
       " '0.0.99.98.5.255': 'NonRollOverEventsProfile',\n",
       " '0.0.99.98.6.255': 'ControlEventsProfile',\n",
       " '1.0.94.91.0.255': 'InstantaneousProfile',\n",
       " '1.0.94.91.3.255': 'ScalerInstantaneousProfile',\n",
       " '1.0.94.91.4.255': 'ScalerBlockLoadProfile',\n",
       " '1.0.94.91.5.255': 'ScalerDailyLoadProfile',\n",
       " '1.0.94.91.6.255': 'ScalerBillingProfile',\n",
       " '1.0.94.91.7.255': 'ScalerEventsProfile',\n",
       " '1.0.94.91.10.255': 'NamePlateDetails',\n",
       " '1.0.98.1.0.255': 'BillPoint',\n",
       " '1.0.99.1.0.255': 'loadProfile',\n",
       " '1.0.99.2.0.255': 'DailyLoadProfile',\n",
       " '0.0.1.0.0.255': 'Clock',\n",
       " '0.0.10.0.1.255': 'MDResetAction',\n",
       " '0.0.40.0.0.255': 'CurrentAssociation',\n",
       " '0.0.40.0.1.255': 'PCAssociation',\n",
       " '0.0.40.0.2.255': 'MRAssociationLLS',\n",
       " '0.0.40.0.3.255': 'USAssociationHLS',\n",
       " '0.0.40.0.4.255': 'PushAssociationHLS',\n",
       " '0.0.40.0.5.255': 'FirmwareUpgradeAssociationHLS',\n",
       " '0.0.40.0.6.255': 'IHDAssociationPre-establishedLLS',\n",
       " '0.0.44.0.0.255': 'ImageActivationInfo',\n",
       " '0.0.13.0.0.255': 'ActivityCalendarForTimeZones',\n",
       " '0.0.15.0.0.255': 'SingleActionScheduleforBillingDates',\n",
       " '0.0.15.0.2.255': 'SingleActionScheduleforImageActivation',\n",
       " '0.0.15.0.4.255': 'SingleActionScheduleforPUSH',\n",
       " '0.0.25.9.0.255': 'InstantPushSetup',\n",
       " '0.4.25.9.0.255': 'AlertPushSetup',\n",
       " '0.0.25.9.1.255': 'PeriodicPushSMtoHES',\n",
       " '0.0.25.9.2.255': 'UtilityMessageHEStoIHD',\n",
       " '0.0.25.9.3.255': 'ConsumerMessageIHDtoHES',\n",
       " '0.0.25.9.4.255': 'PeriodicPushSMtoIHD',\n",
       " '0.0.25.9.5.255': 'EventPushSMtoHES',\n",
       " '0.0.43.0.2.255': 'GlobalKeyChange2LLS',\n",
       " '0.0.43.0.3.255': 'GlobalKeyChange3HLS',\n",
       " '0.0.43.0.4.255': 'GlobalKeyChange4Push',\n",
       " '0.0.43.0.5.255': 'GlobalKeyChange5FirmwareUpgrade',\n",
       " '0.0.96.3.10.255': 'LoadLimitFunctionStatus',\n",
       " '0.0.17.0.0.255': 'LoadLimitValuekW',\n",
       " '1.0.21.7.0.255': 'Ch0 L1ActivePower Q1+Q4 instantvalue',\n",
       " '1.0.41.7.0.255': 'Ch0 L2ActivePower Q1+Q4 instantvalue',\n",
       " '1.0.61.7.0.255': 'Ch0 L3ActivePower Q1+Q4 instantvalue',\n",
       " '1.0.0.1.170.255': 'manf. SpecificValue',\n",
       " '1.0.81.7.20.255': 'Chanel0 angleof UL1-UL3',\n",
       " '1.0.23.7.0.255': 'Reactivepowerimport L1',\n",
       " '1.0.43.7.0.255': 'Reactivepowerimport L2',\n",
       " '1.0.63.7.0.255': 'Reactivepowerimport L3',\n",
       " '01001F1B00FF': 'R_Current',\n",
       " '0100331B00FF': 'Y_Current',\n",
       " '0100471B00FF': 'B_Current',\n",
       " '0100201B00FF': 'R_Volatge',\n",
       " '0100341B00FF': 'Y_Volatge',\n",
       " '0100481B00FF': 'B_Volatge',\n",
       " '0100011D00FF': 'lead',\n",
       " '0100051D00FF': 'lag',\n",
       " '0100081D00FF': 'KWh',\n",
       " '0100091D00FF': 'KVAh',\n",
       " '0000010000FF': 'meter_rtc'}"
      ]
     },
     "execution_count": 1,
     "metadata": {},
     "output_type": "execute_result"
    }
   ],
   "source": [
    "obsi_dict = {}\n",
    "with open(r'C:\\Users\\HARSH\\Downloads\\obiscode.ini', 'r') as file:\n",
    "    for line in file:\n",
    "        if '=' in line:  # avoid lines without '='\n",
    "            key, value = line.strip().split('=', 1)\n",
    "            obsi_dict[key.strip()] = value.strip()\n",
    "obsi_dict"
   ]
  },
  {
   "cell_type": "code",
   "execution_count": 3,
   "id": "e24bc316",
   "metadata": {},
   "outputs": [
    {
     "data": {
      "text/plain": [
       "{'1:0:8:29:0:255': 'BlockEnergy-VArhQ4',\n",
       " '1:0:2:29:0:255': 'BlockEnergy-WhExp',\n",
       " '1:0:5:29:0:255': 'BlockEnergy-VArhQ1',\n",
       " '1:0:31:27:0:255': 'L1CurrentAvg',\n",
       " '1:0:72:27:0:255': 'L3VoltageAvg',\n",
       " '1:0:7:29:0:255': 'BlockEnergy-VArhQ3',\n",
       " '1:0:71:27:0:255': 'L3CurrentAvg',\n",
       " '1:0:10:29:0:255': 'BlockEnergy-VAhExp',\n",
       " '1:0:52:27:0:255': 'L2VoltageAvg',\n",
       " '1:0:6:29:0:255': 'BlockEnergy-VArhQ2',\n",
       " '0:0:1:0:0:255': 'Clock',\n",
       " '1:0:32:27:0:255': 'L1VoltageAvg',\n",
       " '1:0:1:29:0:255': 'BlockEnergy-WhImp',\n",
       " '1:0:51:27:0:255': 'L2CurrentAvg',\n",
       " '1:0:9:29:0:255': 'BlockEnergy-VAhImp',\n",
       " '0:0:96:10:1:255': 'MeterHealthIndicator'}"
      ]
     },
     "execution_count": 3,
     "metadata": {},
     "output_type": "execute_result"
    }
   ],
   "source": [
    "import pandas as pd\n",
    "pd.set_option('display.max_columns', None)\n",
    "# df1 = pd.read_json(r\"C:Users/HARSH/Desktop/jpdcl.loadprofile.json\")\n",
    "\n",
    "doc_df = pd.DataFrame(list(collection.find_one()))\n",
    "col_dict = {\n",
    "    col: obsi_dict[col.replace(\":\", \".\")]\n",
    "    for col in [doc_df.iloc[i][0] for i in range(len(doc_df))]\n",
    "    if col.startswith((\"1\", \"0\")) and col.replace(\":\", \".\") in obsi_dict\n",
    "}\n",
    "\n",
    "col_dict\n",
    "\n"
   ]
  },
  {
   "cell_type": "code",
   "execution_count": null,
   "id": "d9df8c10",
   "metadata": {},
   "outputs": [],
   "source": [
    "{\n",
    "'1:0:31:27:0:255': 1,\n",
    "'1:0:51:27:0:255': 1,\n",
    "'1:0:71:27:0:255': 1,\n",
    "'1:0:32:27:0:255': 1,\n",
    "'1:0:52:27:0:255': 1,\n",
    "'1:0:72:27:0:255': 1,\n",
    "'0:0:1:0:0:255': 1,\n",
    "'1:0:1:29:0:255': 1,\n",
    "'1:0:9:29:0:255': 1,\n",
    "\"serial_no\":1,\n",
    "\"location_id\":1,\n",
    "}"
   ]
  },
  {
   "cell_type": "code",
   "execution_count": null,
   "id": "aa1e0fb4",
   "metadata": {},
   "outputs": [],
   "source": [
    "# list(collection.find({\"sensor_id\":\"667e677c4aa669.34179994\"}))\n",
    "# # collection.find_one()"
   ]
  },
  {
   "cell_type": "code",
   "execution_count": null,
   "id": "b94db47b",
   "metadata": {},
   "outputs": [],
   "source": [
    "complete_data = list(collection.find({},{\n",
    "    \"_id\":0,\n",
    "\t'1:0:31:27:0:255': 1,\n",
    "\t'1:0:51:27:0:255': 1,\n",
    "\t'1:0:71:27:0:255': 1,\n",
    "\t'1:0:32:27:0:255': 1,\n",
    "\t'1:0:52:27:0:255': 1,\n",
    "\t'1:0:72:27:0:255': 1,\n",
    "\t'0:0:1:0:0:255': 1,\n",
    "\t'1:0:1:29:0:255': 1,\n",
    "\t'1:0:9:29:0:255': 1,\n",
    "\t\"serial_no\":1,\n",
    "\t\"location_id\":1,\n",
    "}))\n",
    "complete_data\n"
   ]
  },
  {
   "cell_type": "code",
   "execution_count": null,
   "id": "b7baea11",
   "metadata": {},
   "outputs": [],
   "source": [
    "df = pd.DataFrame(complete_data)\n",
    "df"
   ]
  },
  {
   "cell_type": "code",
   "execution_count": null,
   "id": "0f579100",
   "metadata": {},
   "outputs": [],
   "source": [
    "import pandas as pd\n",
    "pd.set_option('display.max_columns', None)\n",
    "\n",
    "df1 = pd.read_json(r\"C:Users/HARSH/Desktop/jpdcl.loadprofile.json\")\n",
    "df1\n",
    "# df2 = pd.DataFrame(list(collection.find({\"sensor_id\":sensor_ids[0]})))\n",
    "# df2\n"
   ]
  },
  {
   "cell_type": "code",
   "execution_count": null,
   "id": "a51c160a",
   "metadata": {},
   "outputs": [],
   "source": [
    "df1.columns"
   ]
  },
  {
   "cell_type": "code",
   "execution_count": null,
   "id": "22e814b3",
   "metadata": {},
   "outputs": [],
   "source": [
    "len(list(collection.distinct(\"serial_no\")))"
   ]
  },
  {
   "cell_type": "code",
   "execution_count": null,
   "id": "ea8644fc",
   "metadata": {},
   "outputs": [],
   "source": [
    "sensor_collection = db['sensor']\n",
    "list(sensor_collection.find_one())"
   ]
  },
  {
   "cell_type": "code",
   "execution_count": null,
   "id": "a15f1569",
   "metadata": {},
   "outputs": [],
   "source": [
    "for col in ['site_id',\"category\",\"location_id\",\"id\"]:\n",
    "\tprint(f\"{col},{len(list(sensor_collection.distinct(col)))}\")"
   ]
  },
  {
   "cell_type": "code",
   "execution_count": null,
   "id": "5311725a",
   "metadata": {},
   "outputs": [],
   "source": [
    "categories = sensor_collection.distinct(\"category\")\n",
    "for cat in categories:\n",
    "\tprint(f\"{cat}, {len(list(sensor_collection.find({'category': cat})))}\")\n"
   ]
  },
  {
   "cell_type": "code",
   "execution_count": null,
   "id": "831ab9d0",
   "metadata": {},
   "outputs": [],
   "source": [
    "len(list(sensor_collection.find({\"category\":\"URBAN\"})))"
   ]
  },
  {
   "cell_type": "code",
   "execution_count": null,
   "id": "291a51d7",
   "metadata": {},
   "outputs": [],
   "source": []
  },
  {
   "cell_type": "code",
   "execution_count": null,
   "id": "b9f42451",
   "metadata": {},
   "outputs": [],
   "source": []
  },
  {
   "cell_type": "code",
   "execution_count": null,
   "id": "279be6c1",
   "metadata": {},
   "outputs": [],
   "source": [
    "l = []\n",
    "with open(r'C:Users/HARSH/Downloads/obiscode.ini', 'r') as file:\n",
    "    for line in file:\n",
    "        l.append(line.strip())\n",
    "\n",
    "obsi_dict = {}\n",
    "for _ in l:\n",
    "    # print(_.split('=')[0],_.split('=')[1],)\n",
    "    obsi_dict[_.split('=')[0]] =_.split('=')[1]\n",
    "obsi_dict"
   ]
  },
  {
   "cell_type": "code",
   "execution_count": null,
   "id": "bde7858c",
   "metadata": {},
   "outputs": [],
   "source": []
  },
  {
   "cell_type": "code",
   "execution_count": null,
   "id": "fcfbf5b8",
   "metadata": {},
   "outputs": [],
   "source": [
    "d = {\n",
    "\"1.0.8.29.0.255\":\"\",\n",
    "\"1.0.2.29.0.255\":\"\",\n",
    "\"1.0.5.29.0.255\":\"\",\n",
    "\"1.0.31.27.0.255\":\"\",\n",
    "\"1.0.72.27.0.255\":\"\",\n",
    "\"1.0.7.29.0.255\":\"\",\n",
    "\"1.0.71.27.0.255\":\"\",\n",
    "\"1.0.10.29.0.255\":\"\",\n",
    "\"1.0.52.27.0.255\":\"\",\n",
    "\"1.0.6.29.0.255\":\"\",\n",
    "\"0.0.1.0.0.255\":\"\",\n",
    "\"1.0.32.27.0.255\":\"\",\n",
    "\"1.0.1.29.0.255\":\"\",\n",
    "\"1.0.51.27.0.255\":\"\",\n",
    "\"1.0.9.29.0.255\":\"\",\n",
    "\"0.0.96.10.1.255\":\"\",}"
   ]
  },
  {
   "cell_type": "code",
   "execution_count": null,
   "id": "8d1121eb",
   "metadata": {},
   "outputs": [],
   "source": [
    "for col in df1.columns:\n",
    "\ttry:\n",
    "\t\t# Attempt to get distinct values for the column\n",
    "\t\tdistinct_values = collection.distinct(col)\n",
    "\t\tprint(f\"Success for column: {col}, {distinct_values}\")\n",
    "\texcept Exception as e:\n",
    "\t\t# Handle the exception and print an error message\n",
    "\t\tprint(f\"❌ Error processing column '{col}': {e}\")\n",
    "\t\t# Optionally, you can log the error or take other actions here\n",
    "\t# print(f\"Processing column: {col}, {collection.distinct(col)}\")\n",
    "\t"
   ]
  },
  {
   "cell_type": "code",
   "execution_count": null,
   "id": "19ac73d0",
   "metadata": {},
   "outputs": [],
   "source": [
    "sensor_ids = collection.distinct(\"sensor_id\")\n",
    "sensor_ids[0:10]\n"
   ]
  },
  {
   "cell_type": "code",
   "execution_count": null,
   "id": "79a6654b",
   "metadata": {},
   "outputs": [],
   "source": [
    "for col in df1.columns:\n",
    "    # print(f\"Testing column: {col}\")\n",
    "    try:\n",
    "        # Try to fetch one sample document with only this column and sensor_id\n",
    "        # result = list(collection.find({\"sensor_id\": \"66798b07a176f7.28421426\"}, {col: 1}))\n",
    "        result = list(collection.find({}, {col: 1}))\n",
    "        print(f\"  -> Success for column: {col}\")\n",
    "    except Exception as e:\n",
    "        print(f\"  ❌ Error processing column '{col}': {e}\")\n"
   ]
  },
  {
   "cell_type": "code",
   "execution_count": null,
   "id": "628d9ab5",
   "metadata": {},
   "outputs": [],
   "source": [
    "for _ in df1['creation_time']:\n",
    "    print(_)"
   ]
  },
  {
   "cell_type": "code",
   "execution_count": null,
   "id": "e5e83c5f",
   "metadata": {},
   "outputs": [],
   "source": [
    "small_chunk = []\n",
    "for id in sensor_ids[0:10]:\n",
    "\tprint(id)\n",
    "\tsmall_chunk.extend(list(collection.find({\"sensor_id\":id})))\n",
    "\t# small_chunk"
   ]
  },
  {
   "cell_type": "code",
   "execution_count": null,
   "id": "e0d68649",
   "metadata": {},
   "outputs": [],
   "source": [
    "for col in df.columns"
   ]
  },
  {
   "cell_type": "code",
   "execution_count": null,
   "id": "721dd104",
   "metadata": {},
   "outputs": [],
   "source": [
    "sensor = list(collection.find({},{\"sensor_id\":1}))\n",
    "sensor"
   ]
  },
  {
   "cell_type": "code",
   "execution_count": null,
   "id": "1016dab9",
   "metadata": {},
   "outputs": [],
   "source": [
    "sensor_ids = collection.distinct(\"sensor_id\")\n",
    "sensor_ids\n"
   ]
  },
  {
   "cell_type": "code",
   "execution_count": null,
   "id": "ea8f6e61",
   "metadata": {},
   "outputs": [],
   "source": [
    "len(sensor_ids)"
   ]
  },
  {
   "cell_type": "code",
   "execution_count": null,
   "id": "7c4d21ad",
   "metadata": {},
   "outputs": [],
   "source": []
  },
  {
   "cell_type": "code",
   "execution_count": null,
   "id": "73bf89ed",
   "metadata": {},
   "outputs": [],
   "source": []
  },
  {
   "cell_type": "code",
   "execution_count": null,
   "id": "6deefe24",
   "metadata": {},
   "outputs": [],
   "source": []
  },
  {
   "cell_type": "code",
   "execution_count": null,
   "id": "fea9e868",
   "metadata": {},
   "outputs": [],
   "source": []
  },
  {
   "cell_type": "code",
   "execution_count": null,
   "id": "e121148a",
   "metadata": {},
   "outputs": [],
   "source": [
    "df.info()"
   ]
  },
  {
   "cell_type": "code",
   "execution_count": null,
   "id": "80311377",
   "metadata": {},
   "outputs": [],
   "source": [
    "for col in df.columns:\n",
    "\tprint(col, df[col].dtype)\n",
    "\tif df[col].dtype != 'object':\n",
    "\t\tdf[col].plot()\n",
    "\t\tplt.show()\n",
    "# df['date'].plot()"
   ]
  },
  {
   "cell_type": "code",
   "execution_count": null,
   "id": "315ec31a",
   "metadata": {},
   "outputs": [],
   "source": [
    "df['date'].plot()"
   ]
  },
  {
   "cell_type": "code",
   "execution_count": 3,
   "id": "b391e58e",
   "metadata": {},
   "outputs": [
    {
     "data": {
      "text/plain": [
       "2856"
      ]
     },
     "execution_count": 3,
     "metadata": {},
     "output_type": "execute_result"
    }
   ],
   "source": [
    "sum([233,264,170,197,291,299,144,247,419,185,217,190])"
   ]
  },
  {
   "cell_type": "code",
   "execution_count": null,
   "id": "2a88f109",
   "metadata": {},
   "outputs": [],
   "source": []
  }
 ],
 "metadata": {
  "kernelspec": {
   "display_name": "lf",
   "language": "python",
   "name": "python3"
  },
  "language_info": {
   "codemirror_mode": {
    "name": "ipython",
    "version": 3
   },
   "file_extension": ".py",
   "mimetype": "text/x-python",
   "name": "python",
   "nbconvert_exporter": "python",
   "pygments_lexer": "ipython3",
   "version": "3.11.12"
  }
 },
 "nbformat": 4,
 "nbformat_minor": 5
}

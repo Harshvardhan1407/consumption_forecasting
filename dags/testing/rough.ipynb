{
 "cells": [
  {
   "cell_type": "code",
   "execution_count": null,
   "id": "a04f6e6f",
   "metadata": {},
   "outputs": [],
   "source": [
    "#  Success for column: _id\n",
    "#   -> Success for column: date\n",
    "#   ❌ Error processing column 'creation_time': year -2023 is out of range (Consider Using CodecOptions(datetime_conversion=DATETIME_AUTO) or MongoClient(datetime_conversion='DATETIME_AUTO')). See: https://www.mongodb.com/docs/languages/python/pymongo-driver/current/data-formats/dates-and-times/#handling-out-of-range-datetimes\n",
    "#   -> Success for column: 1:0:8:29:0:255\n",
    "#   -> Success for column: 1:0:2:29:0:255\n",
    "#   -> Success for column: 1:0:5:29:0:255\n",
    "#   -> Success for column: 1:0:31:27:0:255\n",
    "#   -> Success for column: 1:0:72:27:0:255\n",
    "#   -> Success for column: 1:0:7:29:0:255\n",
    "#   -> Success for column: read_time_ms\n",
    "#   -> Success for column: source\n",
    "#   -> Success for column: 1:0:71:27:0:255\n",
    "#   -> Success for column: 1:0:10:29:0:255\n",
    "#   -> Success for column: sensor_id\n",
    "#   -> Success for column: req_id\n",
    "#   -> Success for column: 1:0:52:27:0:255\n",
    "#   -> Success for column: creation_time_str\n",
    "#   ❌ Error processing column 'read_time': year 0 is out of range (Consider Using CodecOptions(datetime_conversion=DATETIME_AUTO) or MongoClient(datetime_conversion='DATETIME_AUTO')). See: https://www.mongodb.com/docs/languages/python/pymongo-driver/current/data-formats/dates-and-times/#handling-out-of-range-datetimes\n",
    "#   -> Success for column: 1:0:6:29:0:255\n",
    "#   -> Success for column: creation_time_ms\n",
    "#   -> Success for column: read_time_str\n",
    "#   -> Success for column: 0:0:1:0:0:255\n",
    "#   -> Success for column: 1:0:32:27:0:255\n",
    "#   -> Success for column: 1:0:1:29:0:255\n",
    "#   -> Success for column: p_type\n",
    "#   -> Success for column: 1:0:51:27:0:255\n",
    "#   -> Success for column: 1:0:9:29:0:255\n",
    "#   -> Success for column: 0:0:96:10:1:255\n",
    "#   -> Success for column: serial_no\n",
    "#   -> Success for column: status\n",
    "#   -> Success for column: _class\n",
    "#   -> Success for column: location_id\n",
    "#   -> Success for column: meter_amp_mf\n",
    "#   -> Success for column: meter_volt_mf\n",
    "#   -> Success for column: meter_load_mf\n",
    "#   -> Success for column: mdm_time_ms\n",
    "#   -> Success for column: mdm_time_str\n",
    "#   -> Success for column: nfms_sync\n",
    "#   -> Success for column: nfms_sync_str\n",
    "#   -> Success for column: nfms_tr_id\n",
    "#   -> Success for column: remark\n",
    "#   -> Success for column: seq_no\n",
    "#   -> Success for column: raw_data\n",
    "#   -> Success for column: mdm_pstatus"
   ]
  },
  {
   "cell_type": "code",
   "execution_count": 3,
   "id": "1d6b0489",
   "metadata": {},
   "outputs": [
    {
     "name": "stdout",
     "output_type": "stream",
     "text": [
      "Database list:  ['admin', 'amisp', 'config', 'jpdcl', 'local']\n",
      "Collection list:  ['loadprofile', 'weather_data', 'sensor']\n"
     ]
    }
   ],
   "source": [
    "from pymongo import MongoClient\n",
    "\n",
    "client = MongoClient('mongodb://35.154.221.2:27017/')\n",
    "print(\"Database list: \", client.list_database_names())\n",
    "db = client['jpdcl']\n",
    "print(\"Collection list: \", db.list_collection_names())\n",
    "collection = db['loadprofile']\n",
    "# print(\"Collection count: \", collection.count_documents({}))"
   ]
  },
  {
   "cell_type": "code",
   "execution_count": 4,
   "id": "c2f03e7d",
   "metadata": {},
   "outputs": [],
   "source": [
    "obsi_dict = {}\n",
    "with open(r'C:\\Users\\HARSH\\Downloads\\obiscode.ini', 'r') as file:\n",
    "    for line in file:\n",
    "        if '=' in line:  # avoid lines without '='\n",
    "            key, value = line.strip().split('=', 1)\n",
    "            obsi_dict[key.strip()] = value.strip()\n",
    "# obsi_dict"
   ]
  },
  {
   "cell_type": "code",
   "execution_count": 5,
   "id": "e24bc316",
   "metadata": {},
   "outputs": [
    {
     "data": {
      "text/plain": [
       "{'1:0:8:29:0:255': 'BlockEnergy-VArhQ4',\n",
       " '1:0:2:29:0:255': 'BlockEnergy-WhExp',\n",
       " '1:0:5:29:0:255': 'BlockEnergy-VArhQ1',\n",
       " '1:0:31:27:0:255': 'L1CurrentAvg',\n",
       " '1:0:72:27:0:255': 'L3VoltageAvg',\n",
       " '1:0:7:29:0:255': 'BlockEnergy-VArhQ3',\n",
       " '1:0:71:27:0:255': 'L3CurrentAvg',\n",
       " '1:0:10:29:0:255': 'BlockEnergy-VAhExp',\n",
       " '1:0:52:27:0:255': 'L2VoltageAvg',\n",
       " '1:0:6:29:0:255': 'BlockEnergy-VArhQ2',\n",
       " '0:0:1:0:0:255': 'Clock',\n",
       " '1:0:32:27:0:255': 'L1VoltageAvg',\n",
       " '1:0:1:29:0:255': 'BlockEnergy-WhImp',\n",
       " '1:0:51:27:0:255': 'L2CurrentAvg',\n",
       " '1:0:9:29:0:255': 'BlockEnergy-VAhImp',\n",
       " '0:0:96:10:1:255': 'MeterHealthIndicator'}"
      ]
     },
     "execution_count": 5,
     "metadata": {},
     "output_type": "execute_result"
    }
   ],
   "source": [
    "import pandas as pd\n",
    "pd.set_option('display.max_columns', None)\n",
    "# df1 = pd.read_json(r\"C:Users/HARSH/Desktop/jpdcl.loadprofile.json\")\n",
    "\n",
    "doc_df = pd.DataFrame(list(collection.find_one()))\n",
    "col_dict = {\n",
    "    col: obsi_dict[col.replace(\":\", \".\")]\n",
    "    for col in [doc_df.iloc[i][0] for i in range(len(doc_df))]\n",
    "    if col.startswith((\"1\", \"0\")) and col.replace(\":\", \".\") in obsi_dict\n",
    "}\n",
    "\n",
    "col_dict\n",
    "\n"
   ]
  },
  {
   "cell_type": "code",
   "execution_count": null,
   "id": "d9df8c10",
   "metadata": {},
   "outputs": [],
   "source": [
    "{\n",
    "'1:0:31:27:0:255': 1,\n",
    "'1:0:51:27:0:255': 1,\n",
    "'1:0:71:27:0:255': 1,\n",
    "'1:0:32:27:0:255': 1,\n",
    "'1:0:52:27:0:255': 1,\n",
    "'1:0:72:27:0:255': 1,\n",
    "'0:0:1:0:0:255': 1,\n",
    "'1:0:1:29:0:255': 1,\n",
    "'1:0:9:29:0:255': 1,\n",
    "\"serial_no\":1,\n",
    "\"location_id\":1,\n",
    "}"
   ]
  },
  {
   "cell_type": "code",
   "execution_count": null,
   "id": "aa1e0fb4",
   "metadata": {},
   "outputs": [],
   "source": [
    "# list(collection.find({\"sensor_id\":\"667e677c4aa669.34179994\"}))\n",
    "# # collection.find_one()"
   ]
  },
  {
   "cell_type": "code",
   "execution_count": null,
   "id": "b94db47b",
   "metadata": {},
   "outputs": [],
   "source": [
    "complete_data = list(collection.find({},{\n",
    "    \"_id\":0,\n",
    "\t'1:0:31:27:0:255': 1,\n",
    "\t'1:0:51:27:0:255': 1,\n",
    "\t'1:0:71:27:0:255': 1,\n",
    "\t'1:0:32:27:0:255': 1,\n",
    "\t'1:0:52:27:0:255': 1,\n",
    "\t'1:0:72:27:0:255': 1,\n",
    "\t'0:0:1:0:0:255': 1,\n",
    "\t'1:0:1:29:0:255': 1,\n",
    "\t'1:0:9:29:0:255': 1,\n",
    "\t\"serial_no\":1,\n",
    "\t\"location_id\":1,\n",
    "}))\n",
    "complete_data\n"
   ]
  },
  {
   "cell_type": "code",
   "execution_count": null,
   "id": "b7baea11",
   "metadata": {},
   "outputs": [],
   "source": [
    "df = pd.DataFrame(complete_data)\n",
    "df"
   ]
  },
  {
   "cell_type": "code",
   "execution_count": null,
   "id": "0f579100",
   "metadata": {},
   "outputs": [],
   "source": [
    "import pandas as pd\n",
    "pd.set_option('display.max_columns', None)\n",
    "\n",
    "df1 = pd.read_json(r\"C:Users/HARSH/Desktop/jpdcl.loadprofile.json\")\n",
    "df1\n",
    "# df2 = pd.DataFrame(list(collection.find({\"sensor_id\":sensor_ids[0]})))\n",
    "# df2\n"
   ]
  },
  {
   "cell_type": "code",
   "execution_count": null,
   "id": "a51c160a",
   "metadata": {},
   "outputs": [],
   "source": [
    "df1.columns"
   ]
  },
  {
   "cell_type": "code",
   "execution_count": null,
   "id": "22e814b3",
   "metadata": {},
   "outputs": [],
   "source": [
    "len(list(collection.distinct(\"serial_no\")))"
   ]
  },
  {
   "cell_type": "code",
   "execution_count": null,
   "id": "ea8644fc",
   "metadata": {},
   "outputs": [],
   "source": [
    "sensor_collection = db['sensor']\n",
    "list(sensor_collection.find_one())"
   ]
  },
  {
   "cell_type": "code",
   "execution_count": null,
   "id": "a15f1569",
   "metadata": {},
   "outputs": [],
   "source": [
    "for col in ['site_id',\"category\",\"location_id\",\"id\"]:\n",
    "\tprint(f\"{col},{len(list(sensor_collection.distinct(col)))}\")"
   ]
  },
  {
   "cell_type": "code",
   "execution_count": null,
   "id": "5311725a",
   "metadata": {},
   "outputs": [],
   "source": [
    "categories = sensor_collection.distinct(\"category\")\n",
    "for cat in categories:\n",
    "\tprint(f\"{cat}, {len(list(sensor_collection.find({'category': cat})))}\")\n"
   ]
  },
  {
   "cell_type": "code",
   "execution_count": null,
   "id": "831ab9d0",
   "metadata": {},
   "outputs": [],
   "source": [
    "len(list(sensor_collection.find({\"category\":\"URBAN\"})))"
   ]
  },
  {
   "cell_type": "code",
   "execution_count": null,
   "id": "291a51d7",
   "metadata": {},
   "outputs": [],
   "source": []
  },
  {
   "cell_type": "code",
   "execution_count": null,
   "id": "b9f42451",
   "metadata": {},
   "outputs": [],
   "source": []
  },
  {
   "cell_type": "code",
   "execution_count": null,
   "id": "279be6c1",
   "metadata": {},
   "outputs": [],
   "source": [
    "l = []\n",
    "with open(r'C:Users/HARSH/Downloads/obiscode.ini', 'r') as file:\n",
    "    for line in file:\n",
    "        l.append(line.strip())\n",
    "\n",
    "obsi_dict = {}\n",
    "for _ in l:\n",
    "    # print(_.split('=')[0],_.split('=')[1],)\n",
    "    obsi_dict[_.split('=')[0]] =_.split('=')[1]\n",
    "obsi_dict"
   ]
  },
  {
   "cell_type": "code",
   "execution_count": null,
   "id": "bde7858c",
   "metadata": {},
   "outputs": [],
   "source": []
  },
  {
   "cell_type": "code",
   "execution_count": null,
   "id": "fcfbf5b8",
   "metadata": {},
   "outputs": [],
   "source": [
    "d = {\n",
    "\"1.0.8.29.0.255\":\"\",\n",
    "\"1.0.2.29.0.255\":\"\",\n",
    "\"1.0.5.29.0.255\":\"\",\n",
    "\"1.0.31.27.0.255\":\"\",\n",
    "\"1.0.72.27.0.255\":\"\",\n",
    "\"1.0.7.29.0.255\":\"\",\n",
    "\"1.0.71.27.0.255\":\"\",\n",
    "\"1.0.10.29.0.255\":\"\",\n",
    "\"1.0.52.27.0.255\":\"\",\n",
    "\"1.0.6.29.0.255\":\"\",\n",
    "\"0.0.1.0.0.255\":\"\",\n",
    "\"1.0.32.27.0.255\":\"\",\n",
    "\"1.0.1.29.0.255\":\"\",\n",
    "\"1.0.51.27.0.255\":\"\",\n",
    "\"1.0.9.29.0.255\":\"\",\n",
    "\"0.0.96.10.1.255\":\"\",}"
   ]
  },
  {
   "cell_type": "code",
   "execution_count": null,
   "id": "8d1121eb",
   "metadata": {},
   "outputs": [],
   "source": [
    "for col in df1.columns:\n",
    "\ttry:\n",
    "\t\t# Attempt to get distinct values for the column\n",
    "\t\tdistinct_values = collection.distinct(col)\n",
    "\t\tprint(f\"Success for column: {col}, {distinct_values}\")\n",
    "\texcept Exception as e:\n",
    "\t\t# Handle the exception and print an error message\n",
    "\t\tprint(f\"❌ Error processing column '{col}': {e}\")\n",
    "\t\t# Optionally, you can log the error or take other actions here\n",
    "\t# print(f\"Processing column: {col}, {collection.distinct(col)}\")\n",
    "\t"
   ]
  },
  {
   "cell_type": "code",
   "execution_count": null,
   "id": "19ac73d0",
   "metadata": {},
   "outputs": [],
   "source": [
    "sensor_ids = collection.distinct(\"sensor_id\")\n",
    "sensor_ids[0:10]\n"
   ]
  },
  {
   "cell_type": "code",
   "execution_count": null,
   "id": "79a6654b",
   "metadata": {},
   "outputs": [],
   "source": [
    "for col in df1.columns:\n",
    "    # print(f\"Testing column: {col}\")\n",
    "    try:\n",
    "        # Try to fetch one sample document with only this column and sensor_id\n",
    "        # result = list(collection.find({\"sensor_id\": \"66798b07a176f7.28421426\"}, {col: 1}))\n",
    "        result = list(collection.find({}, {col: 1}))\n",
    "        print(f\"  -> Success for column: {col}\")\n",
    "    except Exception as e:\n",
    "        print(f\"  ❌ Error processing column '{col}': {e}\")\n"
   ]
  },
  {
   "cell_type": "code",
   "execution_count": null,
   "id": "628d9ab5",
   "metadata": {},
   "outputs": [],
   "source": [
    "for _ in df1['creation_time']:\n",
    "    print(_)"
   ]
  },
  {
   "cell_type": "code",
   "execution_count": null,
   "id": "e5e83c5f",
   "metadata": {},
   "outputs": [],
   "source": [
    "small_chunk = []\n",
    "for id in sensor_ids[0:10]:\n",
    "\tprint(id)\n",
    "\tsmall_chunk.extend(list(collection.find({\"sensor_id\":id})))\n",
    "\t# small_chunk"
   ]
  },
  {
   "cell_type": "code",
   "execution_count": null,
   "id": "e0d68649",
   "metadata": {},
   "outputs": [],
   "source": [
    "for col in df.columns"
   ]
  },
  {
   "cell_type": "code",
   "execution_count": null,
   "id": "721dd104",
   "metadata": {},
   "outputs": [],
   "source": [
    "sensor = list(collection.find({},{\"sensor_id\":1}))\n",
    "sensor"
   ]
  },
  {
   "cell_type": "code",
   "execution_count": null,
   "id": "1016dab9",
   "metadata": {},
   "outputs": [],
   "source": [
    "sensor_ids = collection.distinct(\"sensor_id\")\n",
    "sensor_ids\n"
   ]
  },
  {
   "cell_type": "code",
   "execution_count": null,
   "id": "ea8f6e61",
   "metadata": {},
   "outputs": [],
   "source": [
    "len(sensor_ids)"
   ]
  },
  {
   "cell_type": "code",
   "execution_count": null,
   "id": "7c4d21ad",
   "metadata": {},
   "outputs": [],
   "source": []
  },
  {
   "cell_type": "code",
   "execution_count": null,
   "id": "73bf89ed",
   "metadata": {},
   "outputs": [],
   "source": []
  },
  {
   "cell_type": "code",
   "execution_count": null,
   "id": "6deefe24",
   "metadata": {},
   "outputs": [],
   "source": []
  },
  {
   "cell_type": "code",
   "execution_count": null,
   "id": "fea9e868",
   "metadata": {},
   "outputs": [],
   "source": []
  },
  {
   "cell_type": "code",
   "execution_count": null,
   "id": "e121148a",
   "metadata": {},
   "outputs": [],
   "source": [
    "df.info()"
   ]
  },
  {
   "cell_type": "code",
   "execution_count": null,
   "id": "80311377",
   "metadata": {},
   "outputs": [],
   "source": [
    "for col in df.columns:\n",
    "\tprint(col, df[col].dtype)\n",
    "\tif df[col].dtype != 'object':\n",
    "\t\tdf[col].plot()\n",
    "\t\tplt.show()\n",
    "# df['date'].plot()"
   ]
  },
  {
   "cell_type": "code",
   "execution_count": null,
   "id": "315ec31a",
   "metadata": {},
   "outputs": [],
   "source": [
    "df['date'].plot()"
   ]
  },
  {
   "cell_type": "code",
   "execution_count": 3,
   "id": "b391e58e",
   "metadata": {},
   "outputs": [
    {
     "data": {
      "text/plain": [
       "2856"
      ]
     },
     "execution_count": 3,
     "metadata": {},
     "output_type": "execute_result"
    }
   ],
   "source": [
    "sum([233,264,170,197,291,299,144,247,419,185,217,190])"
   ]
  },
  {
   "cell_type": "code",
   "execution_count": null,
   "id": "2a88f109",
   "metadata": {},
   "outputs": [],
   "source": []
  }
 ],
 "metadata": {
  "kernelspec": {
   "display_name": "lf",
   "language": "python",
   "name": "python3"
  },
  "language_info": {
   "codemirror_mode": {
    "name": "ipython",
    "version": 3
   },
   "file_extension": ".py",
   "mimetype": "text/x-python",
   "name": "python",
   "nbconvert_exporter": "python",
   "pygments_lexer": "ipython3",
   "version": "3.10.16"
  }
 },
 "nbformat": 4,
 "nbformat_minor": 5
}
